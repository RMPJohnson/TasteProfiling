{
 "cells": [
  {
   "cell_type": "code",
   "execution_count": 32,
   "metadata": {},
   "outputs": [],
   "source": [
    "# Run in python console\n",
    "import nltk;\n",
    "#nltk.download('stopwords')\n",
    "\n",
    "import re\n",
    "import numpy as np\n",
    "import pandas as pd\n",
    "from pprint import pprint\n",
    "import progressbar\n",
    "# Gensim\n",
    "import gensim\n",
    "import gensim.corpora as corpora\n",
    "from gensim.utils import simple_preprocess\n",
    "from gensim.models import CoherenceModel,LsiModel,HdpModel,LdaMulticore\n",
    "# spacy for lemmatization\n",
    "import spacy\n",
    "\n",
    "# Plotting tools\n",
    "import pyLDAvis\n",
    "import pyLDAvis.gensim  # don't skip this\n",
    "import matplotlib.pyplot as plt\n",
    "%matplotlib inline\n",
    "\n",
    "# Enable logging for gensim - optional\n",
    "import logging\n",
    "logging.basicConfig(format='%(asctime)s : %(levelname)s : %(message)s', level=logging.ERROR)\n",
    "\n",
    "import warnings\n",
    "warnings.filterwarnings(\"ignore\",category=DeprecationWarning)\n",
    "\n",
    "pd.set_option('display.max_rows', 500)\n",
    "pd.set_option('display.max_columns', 500)\n",
    "pd.set_option('display.width', 1000)"
   ]
  },
  {
   "cell_type": "code",
   "execution_count": 2,
   "metadata": {},
   "outputs": [],
   "source": [
    "words= ['after', 'afterwards','again','against', 'all', 'almost','alone','along','already','also','although','always','am','among','amongst','amoungst','amount','an','and',\n",
    "'another','any','anyhow','anyone','anything','anyway','anywhere','are','around','as','at','back','be','became','because','become','becomes','becoming','been','before',\n",
    "'beforehand','behind','being','below','beside','besides','between','beyond','bill','both','bottom','but','by','call','can','cannot','cant','co','con','could','couldnt',\n",
    "'cry','de','describe','detail','do','done','down','due','during','each','eg','eight','either','eleven','else','elsewhere','empty','enough','etc','even','ever','every',\n",
    "'everyone','everything','everywhere','except','few','fifteen','fifty','fill','find','fire','first','five','for','former','formerly','forty','found','four','from','front',\n",
    "'full','further','get','give','go','had','has','hasnt','have','he','hence','her','here','hereafter','hereby','herein','hereupon','hers','herself','him','himself','his',\n",
    "'how','however','hundred','i','ie','if','in','inc','indeed','interest','into','is','it','its','itself','keep','last','latter','latterly','least','less','ltd','made','many',\n",
    "'may','me','meanwhile','might','mill','mine','more','moreover','most','mostly','move','much','must','my','myself','name','namely','neither','never','nevertheless','next',\n",
    "'nine','no','nobody','none','noone','nor','not','nothing','now','nowhere','of','off','often','on','once','one','only','onto','or','other','others','otherwise','our','ours',\n",
    "'ourselves','out','over','own','part','per','perhaps','please','put','rather','re','same','see','seem','seemed','seeming','seems','serious','several','she','should','show',\n",
    "'side','since','sincere','six','sixty','so','some','somehow','someone','something','sometime','sometimes','somewhere','still','such','system','take','ten','than','that',\n",
    "'the','their','them','themselves','then','thence','there','thereafter','thereby','therefore','therein','thereupon','these','they','thick','thin','third','this','those','though',\n",
    "'three','through','throughout','thru','thus','to','together','too','top','toward','towards','twelve','twenty','two','un','under','until','up','upon','us','very','via','was',\n",
    "'we','well','were','what','whatever','when','whence','whenever','where','whereafter','whereas','whereby','wherein','whereupon','wherever','whether','which','while','whither',\n",
    "'who','whoever','whole','whom','whose','why','will','with','within','without','would','yet','you','your','yours','yourself','yourselves']"
   ]
  },
  {
   "cell_type": "code",
   "execution_count": 33,
   "metadata": {},
   "outputs": [],
   "source": [
    "# NLTK Stop words\n",
    "from nltk.corpus import stopwords\n",
    "stop_words = stopwords.words('english')\n",
    "stop_words.extend(words)"
   ]
  },
  {
   "cell_type": "code",
   "execution_count": 34,
   "metadata": {},
   "outputs": [
    {
     "data": {
      "text/html": [
       "<div>\n",
       "<style scoped>\n",
       "    .dataframe tbody tr th:only-of-type {\n",
       "        vertical-align: middle;\n",
       "    }\n",
       "\n",
       "    .dataframe tbody tr th {\n",
       "        vertical-align: top;\n",
       "    }\n",
       "\n",
       "    .dataframe thead th {\n",
       "        text-align: right;\n",
       "    }\n",
       "</style>\n",
       "<table border=\"1\" class=\"dataframe\">\n",
       "  <thead>\n",
       "    <tr style=\"text-align: right;\">\n",
       "      <th></th>\n",
       "      <th>text</th>\n",
       "      <th>lemmatized</th>\n",
       "    </tr>\n",
       "  </thead>\n",
       "  <tbody>\n",
       "    <tr>\n",
       "      <th>0</th>\n",
       "      <td>Law Minister chairs CCLC - cabinet committee o...</td>\n",
       "      <td>['law', 'minister', 'chair', 'cabinet', 'commi...</td>\n",
       "    </tr>\n",
       "    <tr>\n",
       "      <th>1</th>\n",
       "      <td>Today CCLC approved 2 very critical bills: Jou...</td>\n",
       "      <td>['approved', 'critical', 'journalist', 'protec...</td>\n",
       "    </tr>\n",
       "    <tr>\n",
       "      <th>2</th>\n",
       "      <td>HR orgs incl HRW ask EU to call out India on i...</td>\n",
       "      <td>['call', 'massive', 'human', 'right', 'violati...</td>\n",
       "    </tr>\n",
       "    <tr>\n",
       "      <th>3</th>\n",
       "      <td>This is now becoming ridiculous and some ratio...</td>\n",
       "      <td>['becoming', 'ridiculous', 'rationality', 'pre...</td>\n",
       "    </tr>\n",
       "    <tr>\n",
       "      <th>4</th>\n",
       "      <td>On Labour Day we salute our workers who are th...</td>\n",
       "      <td>['labour', 'salute', 'worker', 'backbone', 'co...</td>\n",
       "    </tr>\n",
       "  </tbody>\n",
       "</table>\n",
       "</div>"
      ],
      "text/plain": [
       "                                                text  \\\n",
       "0  Law Minister chairs CCLC - cabinet committee o...   \n",
       "1  Today CCLC approved 2 very critical bills: Jou...   \n",
       "2  HR orgs incl HRW ask EU to call out India on i...   \n",
       "3  This is now becoming ridiculous and some ratio...   \n",
       "4  On Labour Day we salute our workers who are th...   \n",
       "\n",
       "                                          lemmatized  \n",
       "0  ['law', 'minister', 'chair', 'cabinet', 'commi...  \n",
       "1  ['approved', 'critical', 'journalist', 'protec...  \n",
       "2  ['call', 'massive', 'human', 'right', 'violati...  \n",
       "3  ['becoming', 'ridiculous', 'rationality', 'pre...  \n",
       "4  ['labour', 'salute', 'worker', 'backbone', 'co...  "
      ]
     },
     "execution_count": 34,
     "metadata": {},
     "output_type": "execute_result"
    }
   ],
   "source": [
    "# Import Dataset\n",
    "name ='ShireenMazari1_clean'\n",
    "\n",
    "pd.set_option('display.max_rows', 10)\n",
    "pd.set_option('display.max_columns', 10)\n",
    "pd.set_option('display.width', 100)\n",
    "\n",
    "df = pd.read_csv('dataset/'+name+'.csv',usecols=['text','lemmatized'],na_values='[]')\n",
    "df[~df.lemmatized.str.len().eq(2)]\n",
    "df= df.dropna()\n",
    "df.head()"
   ]
  },
  {
   "cell_type": "code",
   "execution_count": 35,
   "metadata": {},
   "outputs": [],
   "source": [
    "data = df.lemmatized.values\n",
    "text = df.text"
   ]
  },
  {
   "cell_type": "code",
   "execution_count": 6,
   "metadata": {},
   "outputs": [],
   "source": [
    "def sent_to_words(sentences):\n",
    "    for sentence in sentences:\n",
    "        yield(gensim.utils.simple_preprocess(str(sentence).encode('utf-8'), deacc=True))  # deacc=True removes punctuations\n",
    "\n",
    "data_words = list(sent_to_words(data))\n",
    "\n"
   ]
  },
  {
   "cell_type": "code",
   "execution_count": 7,
   "metadata": {},
   "outputs": [],
   "source": [
    "# Build the bigram and trigram models\n",
    "bigram = gensim.models.Phrases(data_words, min_count=5, threshold=100) # higher threshold fewer phrases.\n",
    "trigram = gensim.models.Phrases(bigram[data_words], threshold=100)  \n",
    "\n",
    "# Faster way to get a sentence clubbed as a trigram/bigram\n",
    "bigram_mod = gensim.models.phrases.Phraser(bigram)\n",
    "trigram_mod = gensim.models.phrases.Phraser(trigram)\n"
   ]
  },
  {
   "cell_type": "code",
   "execution_count": 8,
   "metadata": {},
   "outputs": [],
   "source": [
    "# Define functions for stopwords, bigrams, trigrams and lemmatization\n",
    "def remove_stopwords(texts):\n",
    "    return [[word for word in simple_preprocess(str(doc)) if word not in stop_words] for doc in texts]\n",
    "\n",
    "def make_bigrams(texts):\n",
    "    return [bigram_mod[doc] for doc in texts]\n",
    "\n",
    "def make_trigrams(texts):\n",
    "    return [trigram_mod[bigram_mod[doc]] for doc in texts]\n",
    "\n",
    "def lemmatization(texts, allowed_postags=['NOUN', 'ADJ', 'VERB', 'ADV']):\n",
    "    \"\"\"https://spacy.io/api/annotation\"\"\"\n",
    "    texts_out = []\n",
    "    for sent in texts:\n",
    "        doc = nlp(\" \".join(sent)) \n",
    "        texts_out.append([token.lemma_ for token in doc if token.pos_ in allowed_postags])\n",
    "    return texts_out"
   ]
  },
  {
   "cell_type": "code",
   "execution_count": 9,
   "metadata": {},
   "outputs": [],
   "source": [
    "# Remove Stop Words\n",
    "data_words_nostops = remove_stopwords(data_words)\n",
    "\n",
    "# Form Bigrams\n",
    "data_words_bigrams = make_bigrams(data_words_nostops)\n",
    "\n",
    "# Initialize spacy 'en' model, keeping only tagger component (for efficiency)\n",
    "# python3 -m spacy download en\n",
    "nlp = spacy.load('en_core_web_sm', disable=['parser', 'ner'])\n",
    "\n",
    "# Do lemmatization keeping only noun, adj, vb, adv\n",
    "data_lemmatized = lemmatization(data_words_bigrams, allowed_postags=['NOUN', 'VERB'])"
   ]
  },
  {
   "cell_type": "code",
   "execution_count": 10,
   "metadata": {},
   "outputs": [],
   "source": [
    "# Create Dictionary\n",
    "id2word = corpora.Dictionary(data_lemmatized)\n",
    "\n",
    "# Create Corpus\n",
    "texts = data_lemmatized\n",
    "\n",
    "# Term Document Frequency\n",
    "corpus = [id2word.doc2bow(text) for text in texts]\n"
   ]
  },
  {
   "cell_type": "code",
   "execution_count": 11,
   "metadata": {},
   "outputs": [
    {
     "data": {
      "text/plain": [
       "[[('approval', 1),\n",
       "  ('approve', 1),\n",
       "  ('cabinet', 3),\n",
       "  ('chair', 1),\n",
       "  ('committee', 1),\n",
       "  ('law', 1),\n",
       "  ('legislation', 1),\n",
       "  ('minister', 1),\n",
       "  ('summary', 1)]]"
      ]
     },
     "execution_count": 11,
     "metadata": {},
     "output_type": "execute_result"
    }
   ],
   "source": [
    "# Human readable format of corpus (term-frequency)\n",
    "[[(id2word[id], freq) for id, freq in cp] for cp in corpus[:1]]"
   ]
  },
  {
   "cell_type": "code",
   "execution_count": 72,
   "metadata": {},
   "outputs": [],
   "source": [
    "limit=10; start=2; step=2;"
   ]
  },
  {
   "cell_type": "markdown",
   "metadata": {},
   "source": [
    "# Latent Dirichlet Allocation (LDA)"
   ]
  },
  {
   "cell_type": "code",
   "execution_count": 73,
   "metadata": {},
   "outputs": [],
   "source": [
    "def compute_coherence_values_LdaModel(dictionary, corpus, texts, limit, start=2, step=3):\n",
    "    print('Running...')\n",
    "    coherence_values = []\n",
    "    model_list = []\n",
    "    bar = progressbar.ProgressBar(max_value=limit)\n",
    "    for num_topics in range(start, limit, step):\n",
    "        model = gensim.models.ldamodel.LdaModel(corpus=corpus,\n",
    "                                           id2word=id2word,\n",
    "                                           num_topics=num_topics, \n",
    "                                           random_state=100,\n",
    "                                           update_every=1,\n",
    "                                           chunksize=1000,\n",
    "                                           passes=10,\n",
    "                                           alpha='auto',\n",
    "                                               )\n",
    "        bar.update(num_topics)\n",
    "        model_list.append(model)\n",
    "        coherencemodel = CoherenceModel(model=model, texts=texts, dictionary=dictionary, coherence='c_v')\n",
    "        coherence_values.append(coherencemodel.get_coherence())\n",
    "    print('Done')    \n",
    "    return model_list, coherence_values"
   ]
  },
  {
   "cell_type": "code",
   "execution_count": 74,
   "metadata": {},
   "outputs": [
    {
     "name": "stdout",
     "output_type": "stream",
     "text": [
      "Running...\n"
     ]
    },
    {
     "name": "stderr",
     "output_type": "stream",
     "text": [
      " 80% (8 of 10) |####################     | Elapsed Time: 0:02:01 ETA:   0:00:39"
     ]
    },
    {
     "name": "stdout",
     "output_type": "stream",
     "text": [
      "Done\n"
     ]
    }
   ],
   "source": [
    "model_list_LDA, coherence_values_LDA = compute_coherence_values_LdaModel(dictionary=id2word, \n",
    "                                                        corpus=corpus, \n",
    "                                                        texts=data_lemmatized, \n",
    "                                                        start=start, \n",
    "                                                        limit=limit, \n",
    "                                                        step=step)"
   ]
  },
  {
   "cell_type": "markdown",
   "metadata": {},
   "source": [
    "# Latent Semantic Analysis (LSA)\n"
   ]
  },
  {
   "cell_type": "code",
   "execution_count": 75,
   "metadata": {},
   "outputs": [],
   "source": [
    "def compute_coherence_values_LSA(dictionary, corpus, texts, limit, start=2, step=3):\n",
    "    print('Running...')\n",
    "    bar = progressbar.ProgressBar(max_value=limit)\n",
    "    \n",
    "    coherence_values = []\n",
    "    model_list = []\n",
    "    for num_topics in range(start, limit, step):\n",
    "        model = LsiModel(corpus=corpus, num_topics=num_topics, id2word=id2word)\n",
    "        model_list.append(model)\n",
    "        \n",
    "        coherencemodel = CoherenceModel(model=model, texts=texts, dictionary=dictionary, coherence='c_v')\n",
    "        coherence_values.append(coherencemodel.get_coherence())\n",
    "        \n",
    "        bar.update(num_topics)\n",
    "        \n",
    "    print('Done.')    \n",
    "    return model_list, coherence_values"
   ]
  },
  {
   "cell_type": "code",
   "execution_count": 76,
   "metadata": {},
   "outputs": [
    {
     "name": "stdout",
     "output_type": "stream",
     "text": [
      "Running...\n"
     ]
    },
    {
     "name": "stderr",
     "output_type": "stream",
     "text": [
      " 80% (8 of 10) |####################     | Elapsed Time: 0:00:18 ETA:   0:00:06"
     ]
    },
    {
     "name": "stdout",
     "output_type": "stream",
     "text": [
      "Done.\n"
     ]
    }
   ],
   "source": [
    "model_list_LSI, coherence_values_LSI = compute_coherence_values_LSA(dictionary=id2word, \n",
    "                                                        corpus=corpus, \n",
    "                                                        texts=data_lemmatized, \n",
    "                                                        start=start, \n",
    "                                                        limit=limit, \n",
    "                                                        step=step)"
   ]
  },
  {
   "cell_type": "markdown",
   "metadata": {},
   "source": [
    "# LdaMulticore"
   ]
  },
  {
   "cell_type": "code",
   "execution_count": 77,
   "metadata": {},
   "outputs": [],
   "source": [
    "def compute_coherence_values_LDAM(dictionary, corpus, texts, limit, start=2, step=3):\n",
    "    print('Running...')\n",
    "    bar = progressbar.ProgressBar(max_value=limit)\n",
    "    coherence_values = []\n",
    "    model_list = []\n",
    "    for num_topics in range(start, limit, step):\n",
    "        model= gensim.models.LdaMulticore(corpus=corpus,\n",
    "                                           id2word=dictionary,\n",
    "                                           num_topics=num_topics, \n",
    "                                           random_state=1000,\n",
    "                                           chunksize=1000,\n",
    "                                           passes=10,\n",
    "                                           #alpha=a,\n",
    "                                           #eta=b\n",
    "                                         )\n",
    "        model_list.append(model)\n",
    "        coherencemodel = CoherenceModel(model=model, texts=texts, dictionary=dictionary, coherence='c_v')\n",
    "        coherence_values.append(coherencemodel.get_coherence())\n",
    "        bar.update(num_topics)\n",
    "    print('Done.')    \n",
    "    return model_list, coherence_values"
   ]
  },
  {
   "cell_type": "code",
   "execution_count": 78,
   "metadata": {},
   "outputs": [
    {
     "name": "stdout",
     "output_type": "stream",
     "text": [
      "Running...\n"
     ]
    },
    {
     "name": "stderr",
     "output_type": "stream",
     "text": [
      " 80% (8 of 10) |####################     | Elapsed Time: 0:01:31 ETA:   0:00:27"
     ]
    },
    {
     "name": "stdout",
     "output_type": "stream",
     "text": [
      "Done.\n"
     ]
    }
   ],
   "source": [
    "model_list_LDAM, coherence_values_LDAM = compute_coherence_values_LDAM(dictionary=id2word, \n",
    "                                                        corpus=corpus, \n",
    "                                                        texts=data_lemmatized, \n",
    "                                                        start=start, \n",
    "                                                        limit=limit, \n",
    "                                                        step=step)"
   ]
  },
  {
   "cell_type": "markdown",
   "metadata": {},
   "source": [
    "# NMF with Word2Vec"
   ]
  },
  {
   "cell_type": "code",
   "execution_count": 79,
   "metadata": {},
   "outputs": [],
   "source": [
    "from sklearn.feature_extraction.text import CountVectorizer, TfidfTransformer;\n",
    "from sklearn.decomposition import NMF;\n",
    "from sklearn.preprocessing import normalize;\n",
    "from sklearn import decomposition\n",
    "from itertools import combinations\n",
    "\n",
    "\n",
    "%matplotlib inline\n",
    "import matplotlib\n",
    "import matplotlib.pyplot as plt\n",
    "plt.style.use(\"ggplot\")\n",
    "matplotlib.rcParams.update({\"font.size\": 14})\n",
    "\n",
    "from gensim.models.fasttext import FastText"
   ]
  },
  {
   "cell_type": "code",
   "execution_count": 80,
   "metadata": {},
   "outputs": [
    {
     "name": "stdout",
     "output_type": "stream",
     "text": [
      "Created 20532 X 2030 document-term matrix\n",
      "Vocabulary has 2030 distinct terms\n"
     ]
    }
   ],
   "source": [
    "from sklearn.feature_extraction.text import CountVectorizer\n",
    "# use a custom stopwords list, set the minimum term-document frequency to 20\n",
    "vectorizer = CountVectorizer(stop_words = stop_words, min_df = 20) #custom_stop_words\n",
    "A = vectorizer.fit_transform(df.lemmatized)\n",
    "print( \"Created %d X %d document-term matrix\" % (A.shape[0], A.shape[1]) )\n",
    "terms = vectorizer.get_feature_names()\n",
    "print(\"Vocabulary has %d distinct terms\" % len(terms))"
   ]
  },
  {
   "cell_type": "code",
   "execution_count": 81,
   "metadata": {},
   "outputs": [],
   "source": [
    "class TokenGenerator:\n",
    "    def __init__( self, documents, stopwords ):\n",
    "        self.documents = documents\n",
    "        self.stopwords = stopwords\n",
    "        self.tokenizer = re.compile( r\"(?u)\\b\\w\\w+\\b\" )\n",
    "\n",
    "    def __iter__( self ):\n",
    "        print(\"Building model ...\")\n",
    "        for doc in self.documents:\n",
    "            tokens = []\n",
    "            for tok in self.tokenizer.findall( doc ):\n",
    "                if tok.lower() in self.stopwords:\n",
    "                    tokens.append( \"<stopword>\" )\n",
    "                elif len(tok) >= 2:\n",
    "                    tokens.append( tok.lower() )\n",
    "            yield tokens"
   ]
  },
  {
   "cell_type": "code",
   "execution_count": 82,
   "metadata": {},
   "outputs": [],
   "source": [
    "def calculate_coherence( w2v_model, term_rankings ):\n",
    "    overall_coherence = 0.0\n",
    "    for topic_index in range(len(term_rankings)):\n",
    "        # check each pair of terms\n",
    "        pair_scores = []\n",
    "        for pair in combinations( term_rankings[topic_index], 2 ):\n",
    "            #print(str(pair[0]) + \" \" + str(pair[1]))\n",
    "            pair_scores.append( w2v_model.similarity(pair[0], pair[1]))\n",
    "        # get the mean for all pairs in this topic\n",
    "        topic_score = sum(pair_scores) / len(pair_scores)\n",
    "        overall_coherence += topic_score\n",
    "    # get the mean score across all topics\n",
    "    return overall_coherence / len(term_rankings)\n",
    "\n",
    "def get_descriptor( all_terms, H, topic_index, top ):\n",
    "    # reverse sort the values to sort the indices\n",
    "    top_indices = np.argsort( H[topic_index,:] )[::-1]\n",
    "    # now get the terms corresponding to the top-ranked indices\n",
    "    top_terms = []\n",
    "    for term_index in top_indices[0:top]:\n",
    "        top_terms.append( all_terms[term_index] )\n",
    "    return top_terms"
   ]
  },
  {
   "cell_type": "code",
   "execution_count": 83,
   "metadata": {},
   "outputs": [
    {
     "name": "stdout",
     "output_type": "stream",
     "text": [
      "Applying NMF for k=2 ...\n",
      "Applying NMF for k=4 ...\n",
      "Applying NMF for k=6 ...\n",
      "Applying NMF for k=8 ...\n"
     ]
    }
   ],
   "source": [
    "topic_models = []\n",
    "# try each value of k\n",
    "for k in range(start, limit, step):\n",
    "    print(\"Applying NMF for k=%d ...\" % k )\n",
    "    model = decomposition.NMF( init=\"nndsvd\", n_components=k ) \n",
    "    W = model.fit_transform( A )\n",
    "    H = model.components_    \n",
    "    topic_models.append( (k,W,H) )"
   ]
  },
  {
   "cell_type": "code",
   "execution_count": 84,
   "metadata": {},
   "outputs": [],
   "source": [
    "docgen = TokenGenerator(df.lemmatized.values, stop_words)"
   ]
  },
  {
   "cell_type": "markdown",
   "metadata": {},
   "source": [
    "# Coherences score with Word2Vec"
   ]
  },
  {
   "cell_type": "code",
   "execution_count": 85,
   "metadata": {},
   "outputs": [
    {
     "name": "stdout",
     "output_type": "stream",
     "text": [
      "Building model ...\n",
      "Building model ...\n",
      "Building model ...\n",
      "Building model ...\n",
      "Building model ...\n",
      "Building model ...\n",
      "K=02: Coherence=0.6187\n",
      "K=04: Coherence=0.6883\n",
      "K=06: Coherence=0.7109\n",
      "K=08: Coherence=0.6971\n"
     ]
    }
   ],
   "source": [
    "w2v_model = gensim.models.Word2Vec(docgen, size=200, min_count=20, sg=1)\n",
    "k_values = []\n",
    "coherences = []\n",
    "for (k,W,H) in topic_models:\n",
    "    # Get all of the topic descriptors - the term_rankings, based on top 10 terms\n",
    "    term_rankings = []\n",
    "    for topic_index in range(k):\n",
    "        if(terms!=''):\n",
    "            term_rankings.append( get_descriptor( terms, H, topic_index, 10 ) )\n",
    "    \n",
    "    k_values.append( k )\n",
    "    coherences.append( calculate_coherence( w2v_model, term_rankings))\n",
    "    print(\"K=%02d: Coherence=%.4f\" % ( k, coherences[-1] ) )\n"
   ]
  },
  {
   "cell_type": "code",
   "execution_count": null,
   "metadata": {},
   "outputs": [],
   "source": []
  },
  {
   "cell_type": "markdown",
   "metadata": {},
   "source": [
    "# Coherences score with FastText"
   ]
  },
  {
   "cell_type": "code",
   "execution_count": 86,
   "metadata": {},
   "outputs": [
    {
     "name": "stdout",
     "output_type": "stream",
     "text": [
      "Building model ...\n",
      "Building model ...\n",
      "Building model ...\n",
      "Building model ...\n",
      "Building model ...\n",
      "Building model ...\n",
      "K=02: Coherence=0.6971\n",
      "K=04: Coherence=0.6971\n",
      "K=06: Coherence=0.6971\n",
      "K=08: Coherence=0.6971\n"
     ]
    }
   ],
   "source": [
    "fast_model = gensim.models.FastText(docgen, size=200, min_count=20, sg=1)\n",
    "\n",
    "k_values = []\n",
    "coherences_FAST = []\n",
    "for (k,W,H) in topic_models:\n",
    "    # Get all of the topic descriptors - the term_rankings, based on top 10 terms\n",
    "    term_rankings = []\n",
    "    for topic_index in range(k):\n",
    "        if(terms!=''):\n",
    "            term_rankings.append( get_descriptor( terms, H, topic_index, 10 ) )\n",
    "    \n",
    "    k_values.append( k )\n",
    "    coherences_FAST.append( calculate_coherence( fast_model, term_rankings))\n",
    "    print(\"K=%02d: Coherence=%.4f\" % ( k, coherences[-1] ) )"
   ]
  },
  {
   "cell_type": "markdown",
   "metadata": {},
   "source": [
    "# Comparision with different Models"
   ]
  },
  {
   "cell_type": "code",
   "execution_count": 87,
   "metadata": {},
   "outputs": [
    {
     "data": {
      "image/png": "[encoded data removed]",
      "text/plain": [
       "<Figure size 936x504 with 1 Axes>"
      ]
     },
     "metadata": {},
     "output_type": "display_data"
    }
   ],
   "source": [
    "#fig = \n",
    "fig, ax = plt.subplots(figsize=(13,7))\n",
    "# create the line plot\n",
    "plt.plot(k_values, coherences,label=\"NMF+Word2Vec\")\n",
    "plt.plot(k_values, coherences_FAST,label=\"NMF+FastText\")\n",
    "plt.plot(k_values, coherence_values_LDAM, label=\"LDAM\")\n",
    "plt.plot(k_values, coherence_values_LDA, label=\"LDA\")\n",
    "plt.plot(k_values, coherence_values_LSI, label=\"LSA\")\n",
    "plt.legend(loc=\"center left\")                \n",
    "#ax.set_facecolor('silver')\n",
    "plt.xticks(k_values)\n",
    "plt.xlabel(\"Number of Topics\")\n",
    "plt.ylabel(\"Coherence Score\")\n",
    "# add the points\n",
    "plt.scatter( k_values, coherences, s=120)\n",
    "plt.scatter( k_values, coherences_FAST, s=120)\n",
    "plt.scatter( k_values, coherence_values_LDAM, s=120)\n",
    "plt.scatter( k_values, coherence_values_LDA, s=120)\n",
    "plt.scatter( k_values, coherence_values_LSI, s=120)\n",
    "# find and annotate the maximum point on the plot\n",
    "plt.grid(True)\n",
    "\n",
    "plt.savefig('comparision.eps', format='eps')\n",
    "plt.savefig('comparision.png', format='png')\n",
    "#plt.show()"
   ]
  },
  {
   "cell_type": "code",
   "execution_count": 68,
   "metadata": {},
   "outputs": [
    {
     "name": "stdout",
     "output_type": "stream",
     "text": [
      "shape of word vector for Prince Harry (2089, 50):\n",
      "[[ 0.09666158  0.19111826 -0.09163474 ...  0.38346058  0.26099458\n",
      "   0.08705147]\n",
      " [-0.15761457  0.13555357 -0.02470147 ...  0.68159616  0.5517566\n",
      "   0.05668474]\n",
      " [-0.4776111   0.01077374  0.4690781  ...  0.46074542 -0.5057357\n",
      "   0.00165157]\n",
      " ...\n",
      " [-0.1267725   0.03643149 -0.01398549 ...  0.41829708  0.15012525\n",
      "   0.18644428]\n",
      " [-0.02187914  0.16394208 -0.1326905  ...  0.39807603  0.24288735\n",
      "   0.17870629]\n",
      " [-0.02912894  0.08735415 -0.11454633 ...  0.3862752   0.23141932\n",
      "   0.17393059]]\n"
     ]
    }
   ],
   "source": [
    "Z = w2v_model.wv.vectors;\n",
    "print('shape of word vector for Prince Harry {0}:'.format(Z.shape))\n"
   ]
  },
  {
   "cell_type": "code",
   "execution_count": 61,
   "metadata": {},
   "outputs": [
    {
     "name": "stdout",
     "output_type": "stream",
     "text": [
      "<gensim.models.keyedvectors.Word2VecKeyedVectors object at 0x7f99207f8b20>\n"
     ]
    }
   ],
   "source": []
  },
  {
   "cell_type": "code",
   "execution_count": 62,
   "metadata": {},
   "outputs": [],
   "source": [
    "### importing packages for K-Mean clustering and KDTree\n",
    "from sklearn.cluster import KMeans\n",
    "from sklearn.neighbors import KDTree\n",
    "import pandas as pd\n",
    "\n",
    "pd.set_option('display.max_columns', None)\n",
    "pd.set_option('display.max_rows', None)\n",
    "\n",
    "## Initalize a k-means object and use it to extract centroids\n",
    "def clustering_on_wordvecs(word_vectors, num_clusters):\n",
    "    kmeans_clustering = KMeans(n_clusters = num_clusters, init='k-means++')\n",
    "    idx = kmeans_clustering.fit_predict(word_vectors)    \n",
    "    return kmeans_clustering.cluster_centers_, idx\n",
    "\n",
    "\n",
    "##Top K words on each cluster center.\n",
    "def get_top_words(index2word, k, centers, wordvecs):\n",
    "    tree = KDTree(wordvecs)\n",
    "    \n",
    "    #Closest points for each Cluster center is used to query the closest 20 points to it.\n",
    "    closest_points = [tree.query(np.reshape(x, (1, -1)), k=k) for x in centers]\n",
    "    closest_words_idxs = [x[1] for x in closest_points]\n",
    "\n",
    "    #Word Index is queried for each position in the above array, and added to a Dictionary.\n",
    "    closest_words = {}\n",
    "    for i in range(0, len(closest_words_idxs)):\n",
    "        closest_words['Interest#' + str(i+1).zfill(2)] = [index2word[j] for j in closest_words_idxs[i][0]]\n",
    "\n",
    "    #A DataFrame is generated from the dictionary.\n",
    "    df = pd.DataFrame(closest_words)\n",
    "    df.index = df.index+1\n",
    "\n",
    "    return df;"
   ]
  },
  {
   "cell_type": "code",
   "execution_count": 58,
   "metadata": {},
   "outputs": [
    {
     "data": {
      "text/html": [
       "<div>\n",
       "<style scoped>\n",
       "    .dataframe tbody tr th:only-of-type {\n",
       "        vertical-align: middle;\n",
       "    }\n",
       "\n",
       "    .dataframe tbody tr th {\n",
       "        vertical-align: top;\n",
       "    }\n",
       "\n",
       "    .dataframe thead th {\n",
       "        text-align: right;\n",
       "    }\n",
       "</style>\n",
       "<table border=\"1\" class=\"dataframe\">\n",
       "  <thead>\n",
       "    <tr style=\"text-align: right;\">\n",
       "      <th></th>\n",
       "      <th>Model</th>\n",
       "      <th>Number of Topic</th>\n",
       "      <th>Coherences Score</th>\n",
       "    </tr>\n",
       "  </thead>\n",
       "  <tbody>\n",
       "    <tr>\n",
       "      <th>0</th>\n",
       "      <td>LDA</td>\n",
       "      <td>30</td>\n",
       "      <td>0.50</td>\n",
       "    </tr>\n",
       "    <tr>\n",
       "      <th>1</th>\n",
       "      <td>LADM</td>\n",
       "      <td>30</td>\n",
       "      <td>0.38</td>\n",
       "    </tr>\n",
       "    <tr>\n",
       "      <th>2</th>\n",
       "      <td>LSA</td>\n",
       "      <td>30</td>\n",
       "      <td>0.20</td>\n",
       "    </tr>\n",
       "    <tr>\n",
       "      <th>3</th>\n",
       "      <td>NMF+Word2Vec</td>\n",
       "      <td>30</td>\n",
       "      <td>0.72</td>\n",
       "    </tr>\n",
       "    <tr>\n",
       "      <th>4</th>\n",
       "      <td>NMF+FastText</td>\n",
       "      <td>30</td>\n",
       "      <td>0.75</td>\n",
       "    </tr>\n",
       "  </tbody>\n",
       "</table>\n",
       "</div>"
      ],
      "text/plain": [
       "          Model  Number of Topic  Coherences Score\n",
       "0           LDA               30              0.50\n",
       "1          LADM               30              0.38\n",
       "2           LSA               30              0.20\n",
       "3  NMF+Word2Vec               30              0.72\n",
       "4  NMF+FastText               30              0.75"
      ]
     },
     "execution_count": 58,
     "metadata": {},
     "output_type": "execute_result"
    }
   ],
   "source": [
    "import pandas as pd\n",
    " \n",
    "# intialise data of lists.\n",
    "data = {'Model':['LDA', 'LADM', 'LSA', 'NMF+Word2Vec','NMF+FastText'],\n",
    "        'Number of Topic':[30, 30, 30, 30,30],\n",
    "        'Coherences Score':[.50, .38, .20, .72,.75],\n",
    "       }\n",
    " \n",
    "# Create DataFrame\n",
    "dataf = pd.DataFrame(data)\n",
    " \n",
    "# Print the output.\n",
    "dataf.head()"
   ]
  },
  {
   "cell_type": "code",
   "execution_count": 95,
   "metadata": {},
   "outputs": [],
   "source": [
    "def get_nmf_topics(model, n_top_words):\n",
    "    \n",
    "    #the word ids obtained need to be reverse-mapped to the words so we can print the topic names.\n",
    "    feat_names = vectorizer.get_feature_names()\n",
    "    \n",
    "    word_dict = {};\n",
    "    for i in range(8):\n",
    "        #for each topic, obtain the largest values, and add the words they map to into the dictionary.\n",
    "        words_ids = model.components_[i].argsort()[:-20 - 1:-1]\n",
    "        words = [feat_names[key] for key in words_ids]\n",
    "        word_dict['Interests # ' + '{:02d}'.format(i+1)] = words;\n",
    "    \n",
    "    return pd.DataFrame(word_dict);"
   ]
  },
  {
   "cell_type": "code",
   "execution_count": 100,
   "metadata": {},
   "outputs": [
    {
     "name": "stdout",
     "output_type": "stream",
     "text": [
      "NMF(init='nndsvd', n_components=8)\n"
     ]
    }
   ],
   "source": [
    "print(model)"
   ]
  },
  {
   "cell_type": "code",
   "execution_count": 96,
   "metadata": {},
   "outputs": [
    {
     "data": {
      "text/html": [
       "<div>\n",
       "<style scoped>\n",
       "    .dataframe tbody tr th:only-of-type {\n",
       "        vertical-align: middle;\n",
       "    }\n",
       "\n",
       "    .dataframe tbody tr th {\n",
       "        vertical-align: top;\n",
       "    }\n",
       "\n",
       "    .dataframe thead th {\n",
       "        text-align: right;\n",
       "    }\n",
       "</style>\n",
       "<table border=\"1\" class=\"dataframe\">\n",
       "  <thead>\n",
       "    <tr style=\"text-align: right;\">\n",
       "      <th></th>\n",
       "      <th>Interests # 01</th>\n",
       "      <th>Interests # 02</th>\n",
       "      <th>Interests # 03</th>\n",
       "      <th>Interests # 04</th>\n",
       "      <th>Interests # 05</th>\n",
       "      <th>Interests # 06</th>\n",
       "      <th>Interests # 07</th>\n",
       "      <th>Interests # 08</th>\n",
       "    </tr>\n",
       "  </thead>\n",
       "  <tbody>\n",
       "    <tr>\n",
       "      <th>0</th>\n",
       "      <td>ik</td>\n",
       "      <td>indian</td>\n",
       "      <td>right</td>\n",
       "      <td>drone</td>\n",
       "      <td>woman</td>\n",
       "      <td>pakistan</td>\n",
       "      <td>state</td>\n",
       "      <td>law</td>\n",
       "    </tr>\n",
       "    <tr>\n",
       "      <th>1</th>\n",
       "      <td>know</td>\n",
       "      <td>occupation</td>\n",
       "      <td>human</td>\n",
       "      <td>attack</td>\n",
       "      <td>esp</td>\n",
       "      <td>team</td>\n",
       "      <td>terrorism</td>\n",
       "      <td>rule</td>\n",
       "    </tr>\n",
       "    <tr>\n",
       "      <th>2</th>\n",
       "      <td>abt</td>\n",
       "      <td>kashmiri</td>\n",
       "      <td>child</td>\n",
       "      <td>mly</td>\n",
       "      <td>abuse</td>\n",
       "      <td>vision</td>\n",
       "      <td>muslim</td>\n",
       "      <td>sc</td>\n",
       "    </tr>\n",
       "    <tr>\n",
       "      <th>3</th>\n",
       "      <td>party</td>\n",
       "      <td>force</td>\n",
       "      <td>abuse</td>\n",
       "      <td>killing</td>\n",
       "      <td>child</td>\n",
       "      <td>naya</td>\n",
       "      <td>world</td>\n",
       "      <td>child</td>\n",
       "    </tr>\n",
       "    <tr>\n",
       "      <th>4</th>\n",
       "      <td>need</td>\n",
       "      <td>modi</td>\n",
       "      <td>iok</td>\n",
       "      <td>ag</td>\n",
       "      <td>seat</td>\n",
       "      <td>make</td>\n",
       "      <td>ag</td>\n",
       "      <td>police</td>\n",
       "    </tr>\n",
       "    <tr>\n",
       "      <th>5</th>\n",
       "      <td>dont</td>\n",
       "      <td>iok</td>\n",
       "      <td>support</td>\n",
       "      <td>terror</td>\n",
       "      <td>violence</td>\n",
       "      <td>country</td>\n",
       "      <td>trump</td>\n",
       "      <td>order</td>\n",
       "    </tr>\n",
       "    <tr>\n",
       "      <th>6</th>\n",
       "      <td>ur</td>\n",
       "      <td>kashmir</td>\n",
       "      <td>constitution</td>\n",
       "      <td>shameful</td>\n",
       "      <td>shameful</td>\n",
       "      <td>people</td>\n",
       "      <td>israel</td>\n",
       "      <td>court</td>\n",
       "    </tr>\n",
       "    <tr>\n",
       "      <th>7</th>\n",
       "      <td>yes</td>\n",
       "      <td>medium</td>\n",
       "      <td>vote</td>\n",
       "      <td>strike</td>\n",
       "      <td>ag</td>\n",
       "      <td>let</td>\n",
       "      <td>esp</td>\n",
       "      <td>abuse</td>\n",
       "    </tr>\n",
       "    <tr>\n",
       "      <th>8</th>\n",
       "      <td>pol</td>\n",
       "      <td>world</td>\n",
       "      <td>mohr</td>\n",
       "      <td>war</td>\n",
       "      <td>party</td>\n",
       "      <td>great</td>\n",
       "      <td>israeli</td>\n",
       "      <td>constitution</td>\n",
       "    </tr>\n",
       "    <tr>\n",
       "      <th>9</th>\n",
       "      <td>medium</td>\n",
       "      <td>shameful</td>\n",
       "      <td>citizen</td>\n",
       "      <td>terrorist</td>\n",
       "      <td>vote</td>\n",
       "      <td>cricket</td>\n",
       "      <td>shameful</td>\n",
       "      <td>crime</td>\n",
       "    </tr>\n",
       "    <tr>\n",
       "      <th>10</th>\n",
       "      <td>really</td>\n",
       "      <td>iojk</td>\n",
       "      <td>kashmir</td>\n",
       "      <td>condemnable</td>\n",
       "      <td>rape</td>\n",
       "      <td>jinnah</td>\n",
       "      <td>iok</td>\n",
       "      <td>ag</td>\n",
       "    </tr>\n",
       "    <tr>\n",
       "      <th>11</th>\n",
       "      <td>fact</td>\n",
       "      <td>loc</td>\n",
       "      <td>kashmiri</td>\n",
       "      <td>act</td>\n",
       "      <td>congratulation</td>\n",
       "      <td>esp</td>\n",
       "      <td>palestinian</td>\n",
       "      <td>citizen</td>\n",
       "    </tr>\n",
       "    <tr>\n",
       "      <th>12</th>\n",
       "      <td>good</td>\n",
       "      <td>across</td>\n",
       "      <td>commitment</td>\n",
       "      <td>continue</td>\n",
       "      <td>kp</td>\n",
       "      <td>hope</td>\n",
       "      <td>country</td>\n",
       "      <td>international</td>\n",
       "    </tr>\n",
       "    <tr>\n",
       "      <th>13</th>\n",
       "      <td>want</td>\n",
       "      <td>silent</td>\n",
       "      <td>iojk</td>\n",
       "      <td>fata</td>\n",
       "      <td>cricket</td>\n",
       "      <td>win</td>\n",
       "      <td>nuclear</td>\n",
       "      <td>country</td>\n",
       "    </tr>\n",
       "    <tr>\n",
       "      <th>14</th>\n",
       "      <td>khan</td>\n",
       "      <td>india</td>\n",
       "      <td>violation</td>\n",
       "      <td>innocent</td>\n",
       "      <td>family</td>\n",
       "      <td>world</td>\n",
       "      <td>war</td>\n",
       "      <td>act</td>\n",
       "    </tr>\n",
       "    <tr>\n",
       "      <th>15</th>\n",
       "      <td>tweet</td>\n",
       "      <td>rogue</td>\n",
       "      <td>council</td>\n",
       "      <td>killed</td>\n",
       "      <td>girl</td>\n",
       "      <td>war</td>\n",
       "      <td>act</td>\n",
       "      <td>ministry</td>\n",
       "    </tr>\n",
       "    <tr>\n",
       "      <th>16</th>\n",
       "      <td>statement</td>\n",
       "      <td>mly</td>\n",
       "      <td>issue</td>\n",
       "      <td>nato</td>\n",
       "      <td>working</td>\n",
       "      <td>nation</td>\n",
       "      <td>citizen</td>\n",
       "      <td>protection</td>\n",
       "    </tr>\n",
       "    <tr>\n",
       "      <th>17</th>\n",
       "      <td>news</td>\n",
       "      <td>terrorism</td>\n",
       "      <td>pakistani</td>\n",
       "      <td>cia</td>\n",
       "      <td>young</td>\n",
       "      <td>congratulation</td>\n",
       "      <td>institution</td>\n",
       "      <td>like</td>\n",
       "    </tr>\n",
       "    <tr>\n",
       "      <th>18</th>\n",
       "      <td>haha</td>\n",
       "      <td>continues</td>\n",
       "      <td>report</td>\n",
       "      <td>terrorism</td>\n",
       "      <td>great</td>\n",
       "      <td>good</td>\n",
       "      <td>like</td>\n",
       "      <td>resolution</td>\n",
       "    </tr>\n",
       "    <tr>\n",
       "      <th>19</th>\n",
       "      <td>say</td>\n",
       "      <td>fascist</td>\n",
       "      <td>muslim</td>\n",
       "      <td>nwa</td>\n",
       "      <td>like</td>\n",
       "      <td>nuclear</td>\n",
       "      <td>power</td>\n",
       "      <td>cabinet</td>\n",
       "    </tr>\n",
       "  </tbody>\n",
       "</table>\n",
       "</div>"
      ],
      "text/plain": [
       "   Interests # 01 Interests # 02 Interests # 03 Interests # 04  Interests # 05  Interests # 06  \\\n",
       "0              ik         indian          right          drone           woman        pakistan   \n",
       "1            know     occupation          human         attack             esp            team   \n",
       "2             abt       kashmiri          child            mly           abuse          vision   \n",
       "3           party          force          abuse        killing           child            naya   \n",
       "4            need           modi            iok             ag            seat            make   \n",
       "5            dont            iok        support         terror        violence         country   \n",
       "6              ur        kashmir   constitution       shameful        shameful          people   \n",
       "7             yes         medium           vote         strike              ag             let   \n",
       "8             pol          world           mohr            war           party           great   \n",
       "9          medium       shameful        citizen      terrorist            vote         cricket   \n",
       "10         really           iojk        kashmir    condemnable            rape          jinnah   \n",
       "11           fact            loc       kashmiri            act  congratulation             esp   \n",
       "12           good         across     commitment       continue              kp            hope   \n",
       "13           want         silent           iojk           fata         cricket             win   \n",
       "14           khan          india      violation       innocent          family           world   \n",
       "15          tweet          rogue        council         killed            girl             war   \n",
       "16      statement            mly          issue           nato         working          nation   \n",
       "17           news      terrorism      pakistani            cia           young  congratulation   \n",
       "18           haha      continues         report      terrorism           great            good   \n",
       "19            say        fascist         muslim            nwa            like         nuclear   \n",
       "\n",
       "   Interests # 07 Interests # 08  \n",
       "0           state            law  \n",
       "1       terrorism           rule  \n",
       "2          muslim             sc  \n",
       "3           world          child  \n",
       "4              ag         police  \n",
       "5           trump          order  \n",
       "6          israel          court  \n",
       "7             esp          abuse  \n",
       "8         israeli   constitution  \n",
       "9        shameful          crime  \n",
       "10            iok             ag  \n",
       "11    palestinian        citizen  \n",
       "12        country  international  \n",
       "13        nuclear        country  \n",
       "14            war            act  \n",
       "15            act       ministry  \n",
       "16        citizen     protection  \n",
       "17    institution           like  \n",
       "18           like     resolution  \n",
       "19          power        cabinet  "
      ]
     },
     "execution_count": 96,
     "metadata": {},
     "output_type": "execute_result"
    }
   ],
   "source": []
  },
  {
   "cell_type": "code",
   "execution_count": 102,
   "metadata": {},
   "outputs": [],
   "source": [
    "from sklearn.metrics import cohen_kappa_score"
   ]
  },
  {
   "cell_type": "code",
   "execution_count": 104,
   "metadata": {},
   "outputs": [
    {
     "data": {
      "text/plain": [
       "0.4565217391304347"
      ]
     },
     "execution_count": 104,
     "metadata": {},
     "output_type": "execute_result"
    }
   ],
   "source": [
    "y_true = [26, 6, 24, 0, 8, 20,7,23,16,10]\n",
    "y_pred = [8, 7, 24, 0, 24, 20,3,1,16,10]\n",
    "cohen_kappa_score(y_true, y_pred)"
   ]
  },
  {
   "cell_type": "code",
   "execution_count": null,
   "metadata": {},
   "outputs": [],
   "source": []
  }
 ],
 "metadata": {
  "kernelspec": {
   "display_name": "Python 3",
   "language": "python",
   "name": "python3"
  },
  "language_info": {
   "codemirror_mode": {
    "name": "ipython",
    "version": 3
   },
   "file_extension": ".py",
   "mimetype": "text/x-python",
   "name": "python",
   "nbconvert_exporter": "python",
   "pygments_lexer": "ipython3",
   "version": "3.8.3"
  }
 },
 "nbformat": 4,
 "nbformat_minor": 4
}
